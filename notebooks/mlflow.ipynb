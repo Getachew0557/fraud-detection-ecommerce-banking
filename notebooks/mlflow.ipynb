{
 "cells": [
  {
   "cell_type": "code",
   "execution_count": 15,
   "execution_count": 1,
   "metadata": {},
   "outputs": [],
   "source": [
    "# Import necessary libraries\n",
    "import pandas as pd\n",
    "import numpy as np\n",
    "import matplotlib.pyplot as plt\n",
    "import seaborn as sns\n",
    "from sklearn.preprocessing import StandardScaler, LabelEncoder\n",
    "from sklearn.impute import SimpleImputer\n",
    "from sklearn.model_selection import train_test_split\n",
    "from sklearn.linear_model import LogisticRegression\n",
    "from sklearn.ensemble import RandomForestClassifier\n",
    "#from xgboost import XGBClassifier\n",
    "from xgboost import XGBClassifier\n",
    "from sklearn.metrics import classification_report\n",
    "from sklearn.tree import DecisionTreeClassifier\n",
    "from sklearn.neural_network import MLPClassifier\n",
    "from tensorflow.keras.models import Sequential\n",
    "from tensorflow.keras.layers import Dense, Conv2D, Flatten, SimpleRNN, LSTM\n",
    "import mlflow\n",
    "import mlflow.sklearn\n",
    "import mlflow.xgboost\n",
    "import warnings\n",
    "from sklearn.metrics import accuracy_score, recall_score, f1_score, precision_score, roc_auc_score\n",
    "\n",
    "warnings.filterwarnings('ignore')\n",
    "\n",
    "# Set plot style for better visuals\n",
    "sns.set(style=\"whitegrid\")"
   ]
  },
  {
   "cell_type": "code",
   "execution_count": 16,
   "execution_count": 2,
   "metadata": {},
   "outputs": [],
   "source": [
    "# Load the datasets\n",
    "fraud_data = pd.read_csv('../data/fraud_cleaned_data.csv')\n",
    "credit_data = pd.read_csv('../data/creditcard.csv')"
   ]
  },
  {
   "cell_type": "code",
   "execution_count": 17,
   "execution_count": 3,
   "metadata": {},
   "outputs": [
    {
     "data": {
      "text/plain": [
       "((151112, 19), (284807, 31))"
      ]
     },
     "execution_count": 17,
       "((151112, 20), (284807, 31))"
      ]
     },
     "execution_count": 3,
     "metadata": {},
     "output_type": "execute_result"
    }
   ],
   "source": [
    "fraud_data.shape, credit_data.shape"
   ]
  },
  {
   "cell_type": "code",
   "execution_count": 18,
   "execution_count": 4,
   "metadata": {},
   "outputs": [
    {
     "data": {
      "text/plain": [
       "(Index(['purchase_value', 'age', 'ip_address', 'class', 'frequency', 'velocity',\n",
       "        'hour_of_day', 'day_of_week', 'time_diff', 'signup_hour',\n",
       "        'signup_day_of_week', 'purchase_day_of_week', 'source_Direct',\n",
       "        'source_SEO', 'browser_FireFox', 'browser_IE', 'browser_Opera',\n",
       "        'browser_Safari', 'sex_M'],\n",
       "(Index(['Unnamed: 0', 'purchase_value', 'age', 'ip_address', 'class',\n",
       "        'frequency', 'velocity', 'hour_of_day', 'day_of_week', 'time_diff',\n",
       "        'signup_hour', 'signup_day_of_week', 'purchase_day_of_week',\n",
       "        'source_Direct', 'source_SEO', 'browser_FireFox', 'browser_IE',\n",
       "        'browser_Opera', 'browser_Safari', 'sex_M'],\n",
       "       dtype='object'),\n",
       " Index(['Time', 'V1', 'V2', 'V3', 'V4', 'V5', 'V6', 'V7', 'V8', 'V9', 'V10',\n",
       "        'V11', 'V12', 'V13', 'V14', 'V15', 'V16', 'V17', 'V18', 'V19', 'V20',\n",
       "        'V21', 'V22', 'V23', 'V24', 'V25', 'V26', 'V27', 'V28', 'Amount',\n",
       "        'Class'],\n",
       "       dtype='object'))"
      ]
     },
     "execution_count": 18,
     "execution_count": 4,
     "metadata": {},
     "output_type": "execute_result"
    }
   ],
   "source": [
    "fraud_data.columns, credit_data.columns"
   ]
  },
  {
   "cell_type": "code",
   "execution_count": 19,

   "execution_count": 5,

   "metadata": {},
   "outputs": [],
   "source": [
    "# For Credit Card Data\n",
    "X_creditcard = credit_data.drop(columns=['Class'])  # independant Features\n",
    "y_creditcard = credit_data['Class']                   # Target variable\n",
    "\n",
    "# For Fraud Data\n",
    "X_fraud = fraud_data.drop(columns=['class'])  # independant Features\n",
    "y_fraud = fraud_data['class']      # Target variable"
   ]
  },
  {
   "cell_type": "code",
   "execution_count": 20,
   "execution_count": 6,
   "metadata": {},
   "outputs": [],
   "source": [
    "# Train-test split for Credit Card Data\n",
    "X_train_creditcard, X_test_creditcard, y_train_creditcard, y_test_creditcard = train_test_split(\n",
    "    X_creditcard, y_creditcard, test_size=0.2, random_state=42, stratify=y_creditcard\n",
    ")\n",
    "\n",
    "# Train-test split for Fraud Data\n",
    "X_train_fraud, X_test_fraud, y_train_fraud, y_test_fraud = train_test_split(\n",
    "    X_fraud, y_fraud, test_size=0.2, random_state=42, stratify=y_fraud\n",
    ")"
   ]
  },
  {
   "cell_type": "code",
   "execution_count": 21,
   "execution_count": 7,
   "metadata": {},
   "outputs": [
    {
     "name": "stdout",
     "output_type": "stream",
     "text": [
      "(array([0, 1], dtype=int64), array([109568,  11321], dtype=int64))\n",
      "(array([0, 1], dtype=int64), array([227451,    394], dtype=int64))\n"
     ]
    }
   ],
   "source": [
    "print(np.unique(y_train_fraud, return_counts=True))\n",
    "print(np.unique(y_train_creditcard, return_counts=True))"
   ]
  },
  {
   "cell_type": "code",
   "execution_count": 22,
   "metadata": {},
   "outputs": [
    {
     "name": "stderr",
     "output_type": "stream",
     "text": [
      "2024/10/23 22:15:23 INFO mlflow.utils.autologging_utils: Created MLflow autologging run with ID '691f0349eb2843af941b0240a3f5b956', which will track hyperparameters, performance metrics, model artifacts, and lineage information for the current sklearn workflow\n",
      "2024/10/23 22:15:24 WARNING mlflow.sklearn: Training metrics will not be recorded because training labels were not specified. To automatically record training metrics, provide training labels as inputs to the model training function.\n",
      "2024/10/23 22:15:24 WARNING mlflow.sklearn: Failed to infer model signature: the trained model does not have a `predict` or `transform` function, which is required in order to infer the signature\n",
      "2024/10/23 22:15:24 WARNING mlflow.sklearn: Model was missing function: predict. Not logging python_function flavor!\n",
      "2024/10/23 22:15:33 WARNING mlflow.models.model: Model logged without a signature and input example. Please set `input_example` parameter when logging the model to auto infer the model signature.\n",
      "2024/10/23 22:15:33 INFO mlflow.utils.autologging_utils: Created MLflow autologging run with ID '029c6dbf25d84676be5afe08561afdaa', which will track hyperparameters, performance metrics, model artifacts, and lineage information for the current sklearn workflow\n",
      "2024/10/23 22:15:33 WARNING mlflow.sklearn: Training metrics will not be recorded because training labels were not specified. To automatically record training metrics, provide training labels as inputs to the model training function.\n",
      "2024/10/23 22:15:33 WARNING mlflow.sklearn: Failed to infer model signature: the trained model does not have a `predict` or `transform` function, which is required in order to infer the signature\n",
      "2024/10/23 22:15:33 WARNING mlflow.sklearn: Model was missing function: predict. Not logging python_function flavor!\n",
      "2024/10/23 22:15:40 WARNING mlflow.models.model: Model logged without a signature and input example. Please set `input_example` parameter when logging the model to auto infer the model signature.\n"
     ]
    }
   ],
   "source": [
    "# Apply SMOTE for Credit Card Data\n",
    "from imblearn.over_sampling import SMOTE\n",
    "smote_creditcard = SMOTE(random_state=42)\n",
    "X_train_creditcard_resampled, y_train_creditcard_resampled = smote_creditcard.fit_resample(X_train_creditcard, y_train_creditcard)\n",
    "\n",
    "# Apply SMOTE for Fraud Data\n",
    "smote_fraud = SMOTE(random_state=42)\n",
    "X_train_fraud_resampled, y_train_fraud_resampled = smote_fraud.fit_resample(X_train_fraud, y_train_fraud)\n"

   "execution_count": 8,
   "metadata": {},
   "outputs": [],
   "source": [
    "# Apply SMOTE-Tomek Link for Credit Card Data\n",
    "from imblearn.combine import SMOTETomek\n",
    "smote_tomek_creditcard = SMOTETomek(random_state=42)\n",
    "X_train_creditcard_resampled, y_train_creditcard_resampled = smote_tomek_creditcard.fit_resample(X_train_creditcard, y_train_creditcard)\n",
    "\n",
    "# Apply SMOTE-Tomik for Fraud Data\n",
    "smote_tomek_fraud = SMOTETomek(random_state=42)\n",
    "X_train_fraud_resampled, y_train_fraud_resampled = smote_tomek_fraud.fit_resample(X_train_fraud, y_train_fraud)\n"
   ]
  },
  {
   "cell_type": "code",
   "execution_count": 23,
   "execution_count": 9,
   "metadata": {},
   "outputs": [
    {
     "name": "stdout",
     "output_type": "stream",
     "text": [
      "(array([0, 1], dtype=int64), array([109568, 109568], dtype=int64))\n",
      "(array([0, 1], dtype=int64), array([227451, 227451], dtype=int64))\n"
      "(array([0, 1], dtype=int64), array([100250, 100250], dtype=int64))\n",
      "(array([0, 1], dtype=int64), array([226818, 226818], dtype=int64))\n"
     ]
    }
   ],
   "source": [
    "print(np.unique(y_train_fraud_resampled, return_counts=True))\n",
    "print(np.unique(y_train_creditcard_resampled, return_counts=True))"
   ]
  },
  {
   "cell_type": "code",
   "execution_count": 24,
   "execution_count": 10,
   "metadata": {},
   "outputs": [],
   "source": [
    "# Enable autologging\n",
    "mlflow.sklearn.autolog()"
   ]
  },
  {
   "cell_type": "code",
   "execution_count": 25,
   "metadata": {},
   "outputs": [
    {
     "name": "stdout",
     "output_type": "stream",
     "text": [
      "\n",
      "Fraud Data Metrics:\n",
      "Accuracy: 0.6794\n",
      "Precision: 0.8814\n",
      "Recall: 0.6794\n",
      "F1 Score: 0.7458\n"

   "cell_type": "markdown",
   "metadata": {},
   "source": [
    "## MLflow for Machine Learning Models"
   ]
  },
  {
   "cell_type": "code",
   "execution_count": 11,
   "metadata": {},
   "outputs": [],
   "source": [
    "models = [\n",
    "    (\"Logistic Regression\", LogisticRegression(C=1, solver='liblinear')),\n",
    "    (\"Random Forest\", RandomForestClassifier(n_estimators=100, max_depth=5)),\n",
    "    (\"XGBClassifier\", XGBClassifier(use_label_encoder=False, eval_metric='logloss')),\n",
    "    (\"Decision Tree\", DecisionTreeClassifier(max_depth=5))\n",
    "]\n"
   ]
  },
  {
   "cell_type": "code",
   "execution_count": 12,
   "metadata": {},
   "outputs": [],
   "source": [
    "def train_and_log_model(model, model_name, X_train, y_train, X_test, y_test, experiment_name):\n",
    "    mlflow.set_experiment(experiment_name)\n",
    "    mlflow.set_tracking_uri(\"http://localhost:5000\")\n",
    "    \n",
    "    with mlflow.start_run(run_name=model_name):\n",
    "        # Train the model\n",
    "        model.fit(X_train, y_train)\n",
    "        \n",
    "        # Make predictions\n",
    "        y_pred = model.predict(X_test)\n",
    "        y_prob = model.predict_proba(X_test)[:, 1] if hasattr(model, \"predict_proba\") else None\n",
    "\n",
    "        # Calculate metrics\n",
    "        accuracy = accuracy_score(y_test, y_pred)\n",
    "        recall = recall_score(y_test, y_pred)\n",
    "        f1 = f1_score(y_test, y_pred)\n",
    "        precision = precision_score(y_test, y_pred)\n",
    "        auc = roc_auc_score(y_test, y_prob) if y_prob is not None else float('nan')\n",
    "        \n",
    "        # Log parameters, metrics, and model\n",
    "        mlflow.log_param(\"model_name\", model_name)\n",
    "        mlflow.log_metric(\"accuracy\", accuracy)\n",
    "        mlflow.log_metric(\"recall\", recall)\n",
    "        mlflow.log_metric(\"f1_score\", f1)\n",
    "        mlflow.log_metric(\"precision\", precision)\n",
    "        mlflow.log_metric(\"auc_roc\", auc)\n",
    "\n",
    "        mlflow.sklearn.log_model(model, \"model\")\n",
    "        print(f\"Logged {model_name} model with experiment '{experiment_name}'\")\n"
   ]
  },
  {
   "cell_type": "code",
   "execution_count": 13,
   "metadata": {},
   "outputs": [
    {
     "name": "stderr",
     "output_type": "stream",
     "text": [
      "2024/10/28 10:26:26 WARNING mlflow.models.model: Model logged without a signature and input example. Please set `input_example` parameter when logging the model to auto infer the model signature.\n"
     ]
    },
    {
     "name": "stdout",
     "output_type": "stream",
     "text": [
      "Logged Logistic Regression model with experiment 'Fraud Detection Models using Credit Data'\n"
     ]
    },
    {
     "name": "stderr",
     "output_type": "stream",
     "text": [
      "2024/10/28 10:26:26 INFO mlflow.tracking._tracking_service.client: 🏃 View run Logistic Regression at: http://localhost:5000/#/experiments/538797330414783680/runs/cc9621125abc4e109bbde8d5f30e342c.\n",
      "2024/10/28 10:26:26 INFO mlflow.tracking._tracking_service.client: 🧪 View experiment at: http://localhost:5000/#/experiments/538797330414783680.\n",
      "2024/10/28 10:30:56 WARNING mlflow.models.model: Model logged without a signature and input example. Please set `input_example` parameter when logging the model to auto infer the model signature.\n",
      "2024/10/28 10:30:57 INFO mlflow.tracking._tracking_service.client: 🏃 View run Random Forest at: http://localhost:5000/#/experiments/538797330414783680/runs/6b193dbf6f8d4aff95b8a8151a64d9ca.\n",
      "2024/10/28 10:30:57 INFO mlflow.tracking._tracking_service.client: 🧪 View experiment at: http://localhost:5000/#/experiments/538797330414783680.\n"
     ]
    },
    {
     "name": "stdout",
     "output_type": "stream",
     "text": [
      "Logged Random Forest model with experiment 'Fraud Detection Models using Credit Data'\n"
     ]
    },
    {
     "name": "stderr",
     "output_type": "stream",
     "text": [
      "2024/10/28 10:31:08 WARNING mlflow.models.model: Model logged without a signature and input example. Please set `input_example` parameter when logging the model to auto infer the model signature.\n",
      "2024/10/28 10:31:08 INFO mlflow.tracking._tracking_service.client: 🏃 View run XGBClassifier at: http://localhost:5000/#/experiments/538797330414783680/runs/9963f4d9117c4269a94cbbd76257cc42.\n",
      "2024/10/28 10:31:08 INFO mlflow.tracking._tracking_service.client: 🧪 View experiment at: http://localhost:5000/#/experiments/538797330414783680.\n"
     ]
    },
    {
     "name": "stdout",
     "output_type": "stream",
     "text": [
      "Logged XGBClassifier model with experiment 'Fraud Detection Models using Credit Data'\n"
     ]
    },
    {
     "name": "stderr",
     "output_type": "stream",
     "text": [
      "2024/10/28 10:32:07 WARNING mlflow.models.model: Model logged without a signature and input example. Please set `input_example` parameter when logging the model to auto infer the model signature.\n",
      "2024/10/28 10:32:07 INFO mlflow.tracking._tracking_service.client: 🏃 View run Decision Tree at: http://localhost:5000/#/experiments/538797330414783680/runs/f9e8f0bdf70b421d933ecd063137a737.\n",
      "2024/10/28 10:32:07 INFO mlflow.tracking._tracking_service.client: 🧪 View experiment at: http://localhost:5000/#/experiments/538797330414783680.\n",
      "2024/10/28 10:32:07 INFO mlflow.tracking.fluent: Experiment with name 'Fraud Detection Models using Fraud' does not exist. Creating a new experiment.\n"
     ]
    },
    {
     "name": "stdout",
     "output_type": "stream",
     "text": [
      "Logged Decision Tree model with experiment 'Fraud Detection Models using Credit Data'\n"
     ]
    },
    {
     "name": "stderr",
     "output_type": "stream",
     "text": [
      "2024/10/23 22:16:04 WARNING mlflow.models.model: Model logged without a signature and input example. Please set `input_example` parameter when logging the model to auto infer the model signature.\n"
      "2024/10/28 10:32:25 WARNING mlflow.models.model: Model logged without a signature and input example. Please set `input_example` parameter when logging the model to auto infer the model signature.\n",
      "2024/10/28 10:32:25 INFO mlflow.tracking._tracking_service.client: 🏃 View run Logistic Regression at: http://localhost:5000/#/experiments/922420799501997757/runs/193c8cade0584e3582211707af768e49.\n",
      "2024/10/28 10:32:25 INFO mlflow.tracking._tracking_service.client: 🧪 View experiment at: http://localhost:5000/#/experiments/922420799501997757.\n"
     ]
    },
    {
     "name": "stdout",
     "output_type": "stream",
     "text": [
      "Run ID: 1d35b9af9f4e4d73bfa790ac9b25f6cc\n"
      "Logged Logistic Regression model with experiment 'Fraud Detection Models using Fraud'\n"
     ]
    },
    {
     "name": "stderr",
     "output_type": "stream",
     "text": [
      "2024/10/28 10:33:15 WARNING mlflow.models.model: Model logged without a signature and input example. Please set `input_example` parameter when logging the model to auto infer the model signature.\n",
      "2024/10/28 10:33:15 INFO mlflow.tracking._tracking_service.client: 🏃 View run Random Forest at: http://localhost:5000/#/experiments/922420799501997757/runs/ff408e39cde84a89940d3d66de3393b5.\n",
      "2024/10/28 10:33:15 INFO mlflow.tracking._tracking_service.client: 🧪 View experiment at: http://localhost:5000/#/experiments/922420799501997757.\n"
     ]
    },
    {
     "name": "stdout",
     "output_type": "stream",
     "text": [
      "Logged Random Forest model with experiment 'Fraud Detection Models using Fraud'\n"
     ]
    },
    {
     "name": "stderr",
     "output_type": "stream",
     "text": [
      "2024/10/28 10:33:23 WARNING mlflow.models.model: Model logged without a signature and input example. Please set `input_example` parameter when logging the model to auto infer the model signature.\n",
      "2024/10/28 10:33:24 INFO mlflow.tracking._tracking_service.client: 🏃 View run XGBClassifier at: http://localhost:5000/#/experiments/922420799501997757/runs/4ba1a45cecbd45018ab986a43fe5cc06.\n",
      "2024/10/28 10:33:24 INFO mlflow.tracking._tracking_service.client: 🧪 View experiment at: http://localhost:5000/#/experiments/922420799501997757.\n"
     ]
    },
    {
     "name": "stdout",
     "output_type": "stream",
     "text": [
      "Logged XGBClassifier model with experiment 'Fraud Detection Models using Fraud'\n"
     ]
    },
    {
     "name": "stderr",
     "output_type": "stream",
     "text": [
      "2024/10/28 10:33:43 WARNING mlflow.models.model: Model logged without a signature and input example. Please set `input_example` parameter when logging the model to auto infer the model signature.\n",
      "2024/10/28 10:33:43 INFO mlflow.tracking._tracking_service.client: 🏃 View run Decision Tree at: http://localhost:5000/#/experiments/922420799501997757/runs/34d65261575148bcb6fef524198e4206.\n",
      "2024/10/28 10:33:43 INFO mlflow.tracking._tracking_service.client: 🧪 View experiment at: http://localhost:5000/#/experiments/922420799501997757.\n"
     ]
    },
    {
     "name": "stdout",
     "output_type": "stream",
     "text": [
      "Logged Decision Tree model with experiment 'Fraud Detection Models using Fraud'\n"
     ]
    }
   ],
   "source": [
    "from sklearn.metrics import accuracy_score, precision_score, recall_score, f1_score, roc_curve, auc, confusion_matrix, classification_report\n",
    "with mlflow.start_run():\n",
    "    # Model training\n",
    "    model = LogisticRegression(max_iter=100)\n",
    "    model.fit(X_train_fraud_resampled, y_train_fraud_resampled)\n",
    "\n",
    "    # Predict on the test set\n",
    "    y_pred_fraud = model.predict(X_test_fraud)\n",
    "    \n",
    "    # Evaluate the model\n",
    "    accuracy_fraud = accuracy_score(y_test_fraud, y_pred_fraud)\n",
    "    precision_fraud = precision_score(y_test_fraud, y_pred_fraud, average='weighted')\n",
    "    recall_fraud = recall_score(y_test_fraud, y_pred_fraud, average='weighted')\n",
    "    f1_fraud = f1_score(y_test_fraud, y_pred_fraud, average='weighted')\n",
    "\n",
    "   # Display Metrics for Fraud Data\n",
    "    print(\"\\nFraud Data Metrics:\")\n",
    "    print(f\"Accuracy: {accuracy_fraud:.4f}\")\n",
    "    print(f\"Precision: {precision_fraud:.4f}\")\n",
    "    print(f\"Recall: {recall_fraud:.4f}\")\n",
    "    print(f\"F1 Score: {f1_fraud:.4f}\")\n",
    "\n",
    "    # Log parameters and metrics manually (optional)\n",
    "    mlflow.log_metric(\"Accuracy\", accuracy_fraud)\n",
    "    mlflow.log_metric(\"Precision\", precision_fraud)\n",
    "    mlflow.log_metric(\"Recall\", recall_fraud)\n",
    "    mlflow.log_metric(\"F1 Score\", f1_fraud)\n",
    "\n",
    "    # Log the model to MLflow\n",
    "    mlflow.sklearn.log_model(model, \"logistic_regression_model\")\n",
    "    # Log parameters\n",
    "    mlflow.log_param(\"max_iter\", 100)\n",
    "    mlflow.log_param(\"solver\", \"lbfgs\")\n",
    "\n",
    "\n",
    "    # Optionally save artifacts (like plots)\n",
    "    # Example: save confusion matrix, ROC curve, etc.\n",
    "    \n",
    "    # Print the run ID for reference\n",
    "    run_id = mlflow.active_run().info.run_id\n",
    "    print(f\"Run ID: {run_id}\")"

    "# Experiment for Credit Card Data\n",
    "for name, model in models:\n",
    "    train_and_log_model(model, name, X_train_creditcard_resampled, y_train_creditcard_resampled, X_test_creditcard, y_test_creditcard, \"Fraud Detection Models using Credit Data\")\n",
    "\n",
    "# Experiment for Fraud Data\n",
    "for name, model in models:\n",
    "    train_and_log_model(model, name, X_train_fraud_resampled, y_train_fraud_resampled, X_test_fraud, y_test_fraud, \"Fraud Detection Models using Fraud\")\n"
   ]
  },
  {
   "cell_type": "markdown",
   "metadata": {},
   "source": [
    "## MLflow for Deep Learning Models"
   ]
  },
  {
   "cell_type": "code",
   "execution_count": 14,
   "metadata": {},
   "outputs": [],
   "source": [
    "import tensorflow as tf\n",
    "from tensorflow.keras.models import Sequential\n",
    "from tensorflow.keras.layers import Dense, Conv1D, MaxPooling1D, Flatten, LSTM, SimpleRNN\n",
    "from tensorflow.keras.callbacks import EarlyStopping\n",
    "from sklearn.preprocessing import StandardScaler\n"
   ]
  },
  {
   "cell_type": "code",
   "execution_count": 15,
   "metadata": {},
   "outputs": [],
   "source": [
    "scaler_credit = StandardScaler()\n",
    "X_train_credit_resampled = scaler_credit.fit_transform(X_train_creditcard_resampled)\n",
    "X_test_creditcard = scaler_credit.transform(X_test_creditcard)\n",
    "\n",
    "scaler_fraud = StandardScaler()\n",
    "X_train_fraud_resampled = scaler_fraud.fit_transform(X_train_fraud_resampled)\n",
    "X_test_fraud = scaler_fraud.transform(X_test_fraud)\n"
   ]
  },
  {
   "cell_type": "code",
   "execution_count": 16,
   "metadata": {},
   "outputs": [],
   "source": [
    "X_train_credit_resampled = X_train_credit_resampled.reshape((X_train_creditcard_resampled.shape[0], X_train_credit_resampled.shape[1], 1))\n",
    "X_test_creditcard = X_test_creditcard.reshape((X_test_creditcard.shape[0], X_test_creditcard.shape[1], 1))\n",
    "\n",
    "X_train_fraud_resampled = X_train_fraud_resampled.reshape((X_train_fraud_resampled.shape[0], X_train_fraud_resampled.shape[1], 1))\n",
    "X_test_fraud = X_test_fraud.reshape((X_test_fraud.shape[0], X_test_fraud.shape[1], 1))\n"
   ]
  },
  {
   "cell_type": "code",
   "execution_count": 17,
   "metadata": {},
   "outputs": [],
   "source": [
    "def create_cnn_model(input_shape):\n",
    "    model = Sequential([\n",
    "        Conv1D(32, kernel_size=3, activation='relu', input_shape=input_shape),\n",
    "        MaxPooling1D(pool_size=2),\n",
    "        Flatten(),\n",
    "        Dense(64, activation='relu'),\n",
    "        Dense(1, activation='sigmoid')\n",
    "    ])\n",
    "    model.compile(optimizer='adam', loss='binary_crossentropy', metrics=['accuracy'])\n",
    "    return model\n",
    "\n",
    "def create_lstm_model(input_shape):\n",
    "    model = Sequential([\n",
    "        LSTM(32, input_shape=input_shape),\n",
    "        Dense(64, activation='relu'),\n",
    "        Dense(1, activation='sigmoid')\n",
    "    ])\n",
    "    model.compile(optimizer='adam', loss='binary_crossentropy', metrics=['accuracy'])\n",
    "    return model\n",
    "\n",
    "def create_rnn_model(input_shape):\n",
    "    model = Sequential([\n",
    "        SimpleRNN(32, input_shape=input_shape),\n",
    "        Dense(64, activation='relu'),\n",
    "        Dense(1, activation='sigmoid')\n",
    "    ])\n",
    "    model.compile(optimizer='adam', loss='binary_crossentropy', metrics=['accuracy'])\n",
    "    return model\n"
   ]
  },
  {
   "cell_type": "code",
   "execution_count": 18,
   "metadata": {},
   "outputs": [],
   "source": [
    "def train_and_log_deep_model(model, model_name, X_train, y_train, X_test, y_test, experiment_name):\n",
    "    mlflow.set_experiment(experiment_name)\n",
    "    mlflow.set_tracking_uri(\"http://localhost:5000\")\n",
    "\n",
    "    with mlflow.start_run(run_name=model_name):\n",
    "        early_stopping = EarlyStopping(monitor='val_loss', patience=3)\n",
    "\n",
    "        # Train the model\n",
    "        history = model.fit(X_train, y_train, epochs=20, batch_size=32, validation_split=0.2, \n",
    "                            callbacks=[early_stopping], verbose=0)\n",
    "\n",
    "        # Evaluate the model\n",
    "        loss, accuracy = model.evaluate(X_test, y_test, verbose=0)\n",
    "        y_pred = (model.predict(X_test) > 0.5).astype(\"int32\")\n",
    "        y_prob = model.predict(X_test)\n",
    "\n",
    "        # Calculate metrics\n",
    "        recall = recall_score(y_test, y_pred)\n",
    "        f1 = f1_score(y_test, y_pred)\n",
    "        precision = precision_score(y_test, y_pred)\n",
    "        auc = roc_auc_score(y_test, y_prob)\n",
    "\n",
    "        # Log metrics and model\n",
    "        mlflow.log_param(\"model_name\", model_name)\n",
    "        mlflow.log_metric(\"accuracy\", accuracy)\n",
    "        mlflow.log_metric(\"recall\", recall)\n",
    "        mlflow.log_metric(\"f1_score\", f1)\n",
    "        mlflow.log_metric(\"precision\", precision)\n",
    "        mlflow.log_metric(\"auc_roc\", auc)\n",
    "\n",
    "        # Log the model\n",
    "        mlflow.keras.log_model(model, \"model\")\n",
    "        print(f\"Logged {model_name} model with experiment '{experiment_name}'\")\n"
   ]
  },
  {
   "cell_type": "code",
   "execution_count": 26,
   "metadata": {},
   "outputs": [
    {
     "name": "stdout",
     "output_type": "stream",
     "text": [
      "\n",
      "Fraud Data Metrics:\n",
      "Accuracy: 0.9775\n",
      "Precision: 0.9982\n",
      "Recall: 0.9775\n",
      "F1 Score: 0.9871\n"
   "execution_count": 19,
   "metadata": {},
   "outputs": [
    {
     "name": "stderr",
     "output_type": "stream",
     "text": [
      "2024/10/28 10:33:46 INFO mlflow.tracking.fluent: Experiment with name 'Fraud Detection Deep Learning Models using Credit Data' does not exist. Creating a new experiment.\n"
     ]
    },
    {
     "name": "stdout",
     "output_type": "stream",
     "text": [
      "1781/1781 [==============================] - 4s 2ms/step\n",
      "1781/1781 [==============================] - 4s 2ms/step\n"
     ]
    },
    {
     "name": "stderr",
     "output_type": "stream",
     "text": [
      "2024/10/28 10:39:24 WARNING mlflow.tensorflow: You are saving a TensorFlow Core model or Keras model without a signature. Inference with mlflow.pyfunc.spark_udf() will not work unless the model's pyfunc representation accepts pandas DataFrames as inference inputs.\n",
      "WARNING:absl:Found untraced functions such as _jit_compiled_convolution_op while saving (showing 1 of 1). These functions will not be directly callable after loading.\n"
     ]
    },
    {
     "name": "stdout",
     "output_type": "stream",
     "text": [
      "INFO:tensorflow:Assets written to: C:\\Users\\getac\\AppData\\Local\\Temp\\tmpgsyocrut\\model\\data\\model\\assets\n"
     ]
    },
    {
     "name": "stderr",
     "output_type": "stream",
     "text": [
      "INFO:tensorflow:Assets written to: C:\\Users\\getac\\AppData\\Local\\Temp\\tmpgsyocrut\\model\\data\\model\\assets\n",
      "2024/10/28 10:39:38 WARNING mlflow.models.model: Model logged without a signature and input example. Please set `input_example` parameter when logging the model to auto infer the model signature.\n",
      "2024/10/28 10:39:38 INFO mlflow.tracking._tracking_service.client: 🏃 View run CNN at: http://localhost:5000/#/experiments/266284980824296560/runs/9c991faae5234495b4ee7e1a772a2811.\n",
      "2024/10/28 10:39:38 INFO mlflow.tracking._tracking_service.client: 🧪 View experiment at: http://localhost:5000/#/experiments/266284980824296560.\n"
     ]
    },
    {
     "name": "stdout",
     "output_type": "stream",
     "text": [
      "Logged CNN model with experiment 'Fraud Detection Deep Learning Models using Credit Data'\n",
      "1781/1781 [==============================] - 10s 5ms/step\n",
      "1781/1781 [==============================] - 10s 5ms/step\n"
     ]
    },
    {
     "name": "stderr",
     "output_type": "stream",
     "text": [
      "2024/10/28 11:11:27 WARNING mlflow.tensorflow: You are saving a TensorFlow Core model or Keras model without a signature. Inference with mlflow.pyfunc.spark_udf() will not work unless the model's pyfunc representation accepts pandas DataFrames as inference inputs.\n",
      "WARNING:absl:Found untraced functions such as lstm_cell_layer_call_fn, lstm_cell_layer_call_and_return_conditional_losses while saving (showing 2 of 2). These functions will not be directly callable after loading.\n"
     ]
    },
    {
     "name": "stdout",
     "output_type": "stream",
     "text": [
      "INFO:tensorflow:Assets written to: C:\\Users\\getac\\AppData\\Local\\Temp\\tmp7snzry_w\\model\\data\\model\\assets\n"
     ]
    },
    {
     "name": "stderr",
     "output_type": "stream",
     "text": [
      "INFO:tensorflow:Assets written to: C:\\Users\\getac\\AppData\\Local\\Temp\\tmp7snzry_w\\model\\data\\model\\assets\n",
      "2024/10/28 11:11:58 WARNING mlflow.models.model: Model logged without a signature and input example. Please set `input_example` parameter when logging the model to auto infer the model signature.\n",
      "2024/10/28 11:11:59 INFO mlflow.tracking._tracking_service.client: 🏃 View run LSTM at: http://localhost:5000/#/experiments/266284980824296560/runs/e1657643756f43dfa87d1575b69cbe04.\n",
      "2024/10/28 11:11:59 INFO mlflow.tracking._tracking_service.client: 🧪 View experiment at: http://localhost:5000/#/experiments/266284980824296560.\n"
     ]
    },
    {
     "name": "stdout",
     "output_type": "stream",
     "text": [
      "Logged LSTM model with experiment 'Fraud Detection Deep Learning Models using Credit Data'\n",
      "1781/1781 [==============================] - 8s 5ms/step\n",
      "1781/1781 [==============================] - 7s 4ms/step\n"
     ]
    },
    {
     "name": "stderr",
     "output_type": "stream",
     "text": [
      "2024/10/28 11:20:30 WARNING mlflow.tensorflow: You are saving a TensorFlow Core model or Keras model without a signature. Inference with mlflow.pyfunc.spark_udf() will not work unless the model's pyfunc representation accepts pandas DataFrames as inference inputs.\n"
     ]
    },
    {
     "name": "stdout",
     "output_type": "stream",
     "text": [
      "INFO:tensorflow:Assets written to: C:\\Users\\getac\\AppData\\Local\\Temp\\tmpx26x962p\\model\\data\\model\\assets\n"
     ]
    },
    {
     "name": "stderr",
     "output_type": "stream",
     "text": [
      "INFO:tensorflow:Assets written to: C:\\Users\\getac\\AppData\\Local\\Temp\\tmpx26x962p\\model\\data\\model\\assets\n",
      "2024/10/28 11:20:47 WARNING mlflow.models.model: Model logged without a signature and input example. Please set `input_example` parameter when logging the model to auto infer the model signature.\n",
      "2024/10/28 11:20:47 INFO mlflow.tracking._tracking_service.client: 🏃 View run RNN at: http://localhost:5000/#/experiments/266284980824296560/runs/f935e06ab8004cd996e6eda88b62e9e6.\n",
      "2024/10/28 11:20:47 INFO mlflow.tracking._tracking_service.client: 🧪 View experiment at: http://localhost:5000/#/experiments/266284980824296560.\n"
     ]
    },
    {
     "name": "stdout",
     "output_type": "stream",
     "text": [
      "Logged RNN model with experiment 'Fraud Detection Deep Learning Models using Credit Data'\n"
     ]
    },
    {
     "name": "stderr",
     "output_type": "stream",
     "text": [
      "2024/10/28 11:20:48 INFO mlflow.tracking.fluent: Experiment with name 'Fraud Detection Deep Learning Models using Fraud' does not exist. Creating a new experiment.\n"
     ]
    },
    {
     "name": "stdout",
     "output_type": "stream",
     "text": [
      "945/945 [==============================] - 2s 2ms/step\n",
      "945/945 [==============================] - 2s 2ms/step\n"
     ]
    },
    {
     "name": "stderr",
     "output_type": "stream",
     "text": [
      "2024/10/28 11:23:31 WARNING mlflow.tensorflow: You are saving a TensorFlow Core model or Keras model without a signature. Inference with mlflow.pyfunc.spark_udf() will not work unless the model's pyfunc representation accepts pandas DataFrames as inference inputs.\n",
      "WARNING:absl:Found untraced functions such as _jit_compiled_convolution_op while saving (showing 1 of 1). These functions will not be directly callable after loading.\n"
     ]
    },
    {
     "name": "stdout",
     "output_type": "stream",
     "text": [
      "INFO:tensorflow:Assets written to: C:\\Users\\getac\\AppData\\Local\\Temp\\tmpvwkvvlmu\\model\\data\\model\\assets\n"
     ]
    },
    {
     "name": "stderr",
     "output_type": "stream",
     "text": [
      "INFO:tensorflow:Assets written to: C:\\Users\\getac\\AppData\\Local\\Temp\\tmpvwkvvlmu\\model\\data\\model\\assets\n",
      "2024/10/28 11:23:39 WARNING mlflow.models.model: Model logged without a signature and input example. Please set `input_example` parameter when logging the model to auto infer the model signature.\n",
      "2024/10/28 11:23:40 INFO mlflow.tracking._tracking_service.client: 🏃 View run CNN at: http://localhost:5000/#/experiments/164955578539125996/runs/4dea21b3bfd447928650b4f3a7be035c.\n",
      "2024/10/28 11:23:40 INFO mlflow.tracking._tracking_service.client: 🧪 View experiment at: http://localhost:5000/#/experiments/164955578539125996.\n"
     ]
    },
    {
     "name": "stdout",
     "output_type": "stream",
     "text": [
      "Logged CNN model with experiment 'Fraud Detection Deep Learning Models using Fraud'\n",
      "945/945 [==============================] - 5s 4ms/step\n",
      "945/945 [==============================] - 4s 4ms/step\n"
     ]
    },
    {
     "name": "stderr",
     "output_type": "stream",
     "text": [
      "2024/10/23 22:16:52 WARNING mlflow.models.model: Model logged without a signature and input example. Please set `input_example` parameter when logging the model to auto infer the model signature.\n"

      "2024/10/28 11:40:22 WARNING mlflow.tensorflow: You are saving a TensorFlow Core model or Keras model without a signature. Inference with mlflow.pyfunc.spark_udf() will not work unless the model's pyfunc representation accepts pandas DataFrames as inference inputs.\n",
      "WARNING:absl:Found untraced functions such as lstm_cell_1_layer_call_fn, lstm_cell_1_layer_call_and_return_conditional_losses while saving (showing 2 of 2). These functions will not be directly callable after loading.\n"

     ]
    },
    {
     "name": "stdout",
     "output_type": "stream",
     "text": [

      "Run ID: 6f93090bd2674e26aa60e57fea39081c\n"

      "INFO:tensorflow:Assets written to: C:\\Users\\getac\\AppData\\Local\\Temp\\tmpd4p1qgh_\\model\\data\\model\\assets\n"
     ]
    },
    {
     "name": "stderr",
     "output_type": "stream",
     "text": [
      "INFO:tensorflow:Assets written to: C:\\Users\\getac\\AppData\\Local\\Temp\\tmpd4p1qgh_\\model\\data\\model\\assets\n",
      "2024/10/28 11:40:49 WARNING mlflow.models.model: Model logged without a signature and input example. Please set `input_example` parameter when logging the model to auto infer the model signature.\n",
      "2024/10/28 11:40:49 INFO mlflow.tracking._tracking_service.client: 🏃 View run LSTM at: http://localhost:5000/#/experiments/164955578539125996/runs/7ef6068be81d42679bf290e032c309ff.\n",
      "2024/10/28 11:40:49 INFO mlflow.tracking._tracking_service.client: 🧪 View experiment at: http://localhost:5000/#/experiments/164955578539125996.\n"
     ]
    },
    {
     "name": "stdout",
     "output_type": "stream",
     "text": [
      "Logged LSTM model with experiment 'Fraud Detection Deep Learning Models using Fraud'\n",
      "945/945 [==============================] - 3s 3ms/step\n",
      "945/945 [==============================] - 3s 3ms/step\n"
     ]
    },
    {
     "name": "stderr",
     "output_type": "stream",
     "text": [
      "2024/10/28 11:44:12 WARNING mlflow.tensorflow: You are saving a TensorFlow Core model or Keras model without a signature. Inference with mlflow.pyfunc.spark_udf() will not work unless the model's pyfunc representation accepts pandas DataFrames as inference inputs.\n"
     ]
    },
    {
     "name": "stdout",
     "output_type": "stream",
     "text": [
      "INFO:tensorflow:Assets written to: C:\\Users\\getac\\AppData\\Local\\Temp\\tmp7qmz8711\\model\\data\\model\\assets\n"
     ]
    },
    {
     "name": "stderr",
     "output_type": "stream",
     "text": [
      "INFO:tensorflow:Assets written to: C:\\Users\\getac\\AppData\\Local\\Temp\\tmp7qmz8711\\model\\data\\model\\assets\n",
      "2024/10/28 11:44:29 WARNING mlflow.models.model: Model logged without a signature and input example. Please set `input_example` parameter when logging the model to auto infer the model signature.\n",
      "2024/10/28 11:44:30 INFO mlflow.tracking._tracking_service.client: 🏃 View run RNN at: http://localhost:5000/#/experiments/164955578539125996/runs/dfc6530677424a679b8213bf6ce0b750.\n",
      "2024/10/28 11:44:30 INFO mlflow.tracking._tracking_service.client: 🧪 View experiment at: http://localhost:5000/#/experiments/164955578539125996.\n"
     ]
    },
    {
     "name": "stdout",
     "output_type": "stream",
     "text": [
      "Logged RNN model with experiment 'Fraud Detection Deep Learning Models using Fraud'\n"

     ]
    }
   ],
   "source": [

    "from sklearn.metrics import accuracy_score, precision_score, recall_score, f1_score, roc_curve, auc, confusion_matrix, classification_report\n",
    "with mlflow.start_run():\n",
    "    # Model training\n",
    "    model = LogisticRegression(max_iter=100)\n",
    "    model.fit(X_train_creditcard_resampled, y_train_creditcard_resampled)\n",
    "\n",
    "    # Predict on the test set\n",
    "    y_pred_creditcard = model.predict(X_test_creditcard)\n",
    "    \n",
    "    # Evaluate the model\n",
    "    accuracy_creditcard = accuracy_score(y_test_creditcard, y_pred_creditcard)\n",
    "    precision_creditcard = precision_score(y_test_creditcard, y_pred_creditcard, average='weighted')\n",
    "    recall_creditcard = recall_score(y_test_creditcard, y_pred_creditcard, average='weighted')\n",
    "    f1_creditcard = f1_score(y_test_creditcard, y_pred_creditcard, average='weighted')\n",
    "\n",
    "   # Display Metrics for Fraud Data\n",
    "    print(\"\\nFraud Data Metrics:\")\n",
    "    print(f\"Accuracy: {accuracy_creditcard:.4f}\")\n",
    "    print(f\"Precision: {precision_creditcard:.4f}\")\n",
    "    print(f\"Recall: {recall_creditcard:.4f}\")\n",
    "    print(f\"F1 Score: {f1_creditcard:.4f}\")\n",
    "\n",
    "    # Log parameters and metrics manually (optional)\n",
    "    mlflow.log_metric(\"Accuracy\", accuracy_creditcard)\n",
    "    mlflow.log_metric(\"Precision\", precision_creditcard)\n",
    "    mlflow.log_metric(\"Recall\", recall_creditcard)\n",
    "    mlflow.log_metric(\"F1 Score\", f1_creditcard)\n",
    "\n",
    "    # Log the model to MLflow\n",
    "    mlflow.sklearn.log_model(model, \"logistic_regression_model\")\n",
    "    # Log parameters\n",
    "    mlflow.log_param(\"max_iter\", 100)\n",
    "    mlflow.log_param(\"solver\", \"lbfgs\")\n",
    "\n",
    "\n",
    "    # Optionally save artifacts (like plots)\n",
    "    # Example: save confusion matrix, ROC curve, etc.\n",
    "    \n",
    "    # Print the run ID for reference\n",
    "    run_id = mlflow.active_run().info.run_id\n",
    "    print(f\"Run ID: {run_id}\")"

    "# Define input shape for models\n",
    "input_shape_credit = (X_train_creditcard_resampled.shape[1], 1)\n",
    "input_shape_fraud = (X_train_fraud_resampled.shape[1], 1)\n",
    "\n",
    "# List of deep learning models\n",
    "deep_models = [\n",
    "    (\"CNN\", create_cnn_model(input_shape_credit)),\n",
    "    (\"LSTM\", create_lstm_model(input_shape_credit)),\n",
    "    (\"RNN\", create_rnn_model(input_shape_credit))\n",
    "]\n",
    "\n",
    "# Run experiments for Credit Card Data\n",
    "for name, model in deep_models:\n",
    "    train_and_log_deep_model(model, name, X_train_creditcard_resampled, y_train_creditcard_resampled, X_test_creditcard, y_test_creditcard, \"Fraud Detection Deep Learning Models using Credit Data\")\n",
    "\n",
    "# Update models for Fraud Data\n",
    "deep_models = [\n",
    "    (\"CNN\", create_cnn_model(input_shape_fraud)),\n",
    "    (\"LSTM\", create_lstm_model(input_shape_fraud)),\n",
    "    (\"RNN\", create_rnn_model(input_shape_fraud))\n",
    "]\n",
    "\n",
    "# Run experiments for Fraud Data\n",
    "for name, model in deep_models:\n",
    "    train_and_log_deep_model(model, name, X_train_fraud_resampled, y_train_fraud_resampled, X_test_fraud, y_test_fraud, \"Fraud Detection Deep Learning Models using Fraud\")\n"

   ]
  },
  {
   "cell_type": "code",
   "execution_count": null,
   "metadata": {},
   "outputs": [],
   "source": []
  }
 ],
 "metadata": {
  "kernelspec": {
   "display_name": "base",
   "language": "python",
   "name": "python3"
  },
  "language_info": {
   "codemirror_mode": {
    "name": "ipython",
    "version": 3
   },
   "file_extension": ".py",
   "mimetype": "text/x-python",
   "name": "python",
   "nbconvert_exporter": "python",
   "pygments_lexer": "ipython3",
   "version": "3.10.8"
  }
 },
 "nbformat": 4,
 "nbformat_minor": 2
}
