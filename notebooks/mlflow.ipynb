{
 "cells": [
  {
   "cell_type": "code",
   "execution_count": 1,
   "metadata": {},
   "outputs": [],
   "source": [
    "# Import necessary libraries\n",
    "import pandas as pd\n",
    "import numpy as np\n",
    "import matplotlib.pyplot as plt\n",
    "import seaborn as sns\n",
    "from sklearn.preprocessing import StandardScaler, LabelEncoder\n",
    "from sklearn.impute import SimpleImputer\n",
    "from sklearn.model_selection import train_test_split\n",
    "from sklearn.linear_model import LogisticRegression\n",
    "from sklearn.ensemble import RandomForestClassifier\n",
    "from xgboost import XGBClassifier\n",
    "from sklearn.metrics import classification_report\n",
    "from sklearn.tree import DecisionTreeClassifier\n",
    "from sklearn.neural_network import MLPClassifier\n",
    "from tensorflow.keras.models import Sequential\n",
    "from tensorflow.keras.layers import Dense, Conv2D, Flatten, SimpleRNN, LSTM\n",
    "import mlflow\n",
    "import mlflow.sklearn\n",
    "import mlflow.xgboost\n",
    "import warnings\n",
    "from sklearn.metrics import accuracy_score, recall_score, f1_score, precision_score, roc_auc_score\n",
    "\n",
    "warnings.filterwarnings('ignore')\n",
    "\n",
    "# Set plot style for better visuals\n",
    "sns.set(style=\"whitegrid\")"
   ]
  },
  {
   "cell_type": "code",
   "execution_count": 2,
   "metadata": {},
   "outputs": [],
   "source": [
    "# Load the datasets\n",
    "fraud_data = pd.read_csv('../data/fraud_cleaned_data.csv')\n",
    "credit_data = pd.read_csv('../data/creditcard.csv')"
   ]
  },
  {
   "cell_type": "code",
   "execution_count": 3,
   "metadata": {},
   "outputs": [
    {
     "data": {
      "text/plain": [
       "((151112, 20), (284807, 31))"
      ]
     },
     "execution_count": 3,
     "metadata": {},
     "output_type": "execute_result"
    }
   ],
   "source": [
    "fraud_data.shape, credit_data.shape"
   ]
  },
  {
   "cell_type": "code",
   "execution_count": 4,
   "metadata": {},
   "outputs": [
    {
     "data": {
      "text/plain": [
       "(Index(['Unnamed: 0', 'purchase_value', 'age', 'ip_address', 'class',\n",
       "        'frequency', 'velocity', 'hour_of_day', 'day_of_week', 'time_diff',\n",
       "        'signup_hour', 'signup_day_of_week', 'purchase_day_of_week',\n",
       "        'source_Direct', 'source_SEO', 'browser_FireFox', 'browser_IE',\n",
       "        'browser_Opera', 'browser_Safari', 'sex_M'],\n",
       "       dtype='object'),\n",
       " Index(['Time', 'V1', 'V2', 'V3', 'V4', 'V5', 'V6', 'V7', 'V8', 'V9', 'V10',\n",
       "        'V11', 'V12', 'V13', 'V14', 'V15', 'V16', 'V17', 'V18', 'V19', 'V20',\n",
       "        'V21', 'V22', 'V23', 'V24', 'V25', 'V26', 'V27', 'V28', 'Amount',\n",
       "        'Class'],\n",
       "       dtype='object'))"
      ]
     },
     "execution_count": 4,
     "metadata": {},
     "output_type": "execute_result"
    }
   ],
   "source": [
    "fraud_data.columns, credit_data.columns"
   ]
  },
  {
   "cell_type": "code",
   "execution_count": 5,
   "metadata": {},
   "outputs": [],
   "source": [
    "# For Credit Card Data\n",
    "X_creditcard = credit_data.drop(columns=['Class'])  # independant Features\n",
    "y_creditcard = credit_data['Class']                   # Target variable\n",
    "\n",
    "# For Fraud Data\n",
    "X_fraud = fraud_data.drop(columns=['class'])  # independant Features\n",
    "y_fraud = fraud_data['class']      # Target variable"
   ]
  },
  {
   "cell_type": "code",
   "execution_count": 6,
   "metadata": {},
   "outputs": [],
   "source": [
    "# Train-test split for Credit Card Data\n",
    "X_train_creditcard, X_test_creditcard, y_train_creditcard, y_test_creditcard = train_test_split(\n",
    "    X_creditcard, y_creditcard, test_size=0.2, random_state=42, stratify=y_creditcard\n",
    ")\n",
    "\n",
    "# Train-test split for Fraud Data\n",
    "X_train_fraud, X_test_fraud, y_train_fraud, y_test_fraud = train_test_split(\n",
    "    X_fraud, y_fraud, test_size=0.2, random_state=42, stratify=y_fraud\n",
    ")"
   ]
  },
  {
   "cell_type": "code",
   "execution_count": 7,
   "metadata": {},
   "outputs": [
    {
     "name": "stdout",
     "output_type": "stream",
     "text": [
      "(array([0, 1], dtype=int64), array([109568,  11321], dtype=int64))\n",
      "(array([0, 1], dtype=int64), array([227451,    394], dtype=int64))\n"
     ]
    }
   ],
   "source": [
    "print(np.unique(y_train_fraud, return_counts=True))\n",
    "print(np.unique(y_train_creditcard, return_counts=True))"
   ]
  },
  {
   "cell_type": "code",
   "execution_count": 8,
   "metadata": {},
   "outputs": [],
   "source": [
    "# Apply SMOTE-Tomek Link for Credit Card Data\n",
    "from imblearn.combine import SMOTETomek\n",
    "smote_tomek_creditcard = SMOTETomek(random_state=42)\n",
    "X_train_creditcard_resampled, y_train_creditcard_resampled = smote_tomek_creditcard.fit_resample(X_train_creditcard, y_train_creditcard)\n",
    "\n",
    "# Apply SMOTE-Tomik for Fraud Data\n",
    "smote_tomek_fraud = SMOTETomek(random_state=42)\n",
    "X_train_fraud_resampled, y_train_fraud_resampled = smote_tomek_fraud.fit_resample(X_train_fraud, y_train_fraud)\n"
   ]
  },
  {
   "cell_type": "code",
   "execution_count": 9,
   "metadata": {},
   "outputs": [
    {
     "name": "stdout",
     "output_type": "stream",
     "text": [
      "(array([0, 1], dtype=int64), array([100250, 100250], dtype=int64))\n",
      "(array([0, 1], dtype=int64), array([226818, 226818], dtype=int64))\n"
     ]
    }
   ],
   "source": [
    "print(np.unique(y_train_fraud_resampled, return_counts=True))\n",
    "print(np.unique(y_train_creditcard_resampled, return_counts=True))"
   ]
  },
  {
   "cell_type": "code",
   "execution_count": 10,
   "metadata": {},
   "outputs": [],
   "source": [
    "# Enable autologging\n",
    "mlflow.sklearn.autolog()"
   ]
  },
  {
   "cell_type": "markdown",
   "metadata": {},
   "source": [
    "## MLflow for Machine Learning Models"
   ]
  },
  {
   "cell_type": "code",
   "execution_count": 11,
   "metadata": {},
   "outputs": [],
   "source": [
    "models = [\n",
    "    (\"Logistic Regression\", LogisticRegression(C=1, solver='liblinear')),\n",
    "    (\"Random Forest\", RandomForestClassifier(n_estimators=100, max_depth=5)),\n",
    "    (\"XGBClassifier\", XGBClassifier(use_label_encoder=False, eval_metric='logloss')),\n",
    "    (\"Decision Tree\", DecisionTreeClassifier(max_depth=5))\n",
    "]\n"
   ]
  },
  {
   "cell_type": "code",
   "execution_count": null,
   "metadata": {},
   "outputs": [],
   "source": [
    "def train_and_log_model(model, model_name, X_train, y_train, X_test, y_test, experiment_name):\n",
    "    mlflow.set_experiment(experiment_name)\n",
    "    mlflow.set_tracking_uri(\"http://localhost:5000\")\n",
    "    \n",
    "    with mlflow.start_run(run_name=model_name):\n",
    "        # Train the model\n",
    "        model.fit(X_train, y_train)\n",
    "        \n",
    "        # Make predictions\n",
    "        y_pred = model.predict(X_test)\n",
    "        y_prob = model.predict_proba(X_test)[:, 1] if hasattr(model, \"predict_proba\") else None\n",
    "\n",
    "        # Calculate metrics\n",
    "        accuracy = accuracy_score(y_test, y_pred)\n",
    "        recall = recall_score(y_test, y_pred)\n",
    "        f1 = f1_score(y_test, y_pred)\n",
    "        precision = precision_score(y_test, y_pred)\n",
    "        auc = roc_auc_score(y_test, y_prob) if y_prob is not None else float('nan')\n",
    "        \n",
    "        # Log parameters, metrics, and model\n",
    "        mlflow.log_param(\"model_name\", model_name)\n",
    "        mlflow.log_metric(\"accuracy\", accuracy)\n",
    "        mlflow.log_metric(\"recall\", recall)\n",
    "        mlflow.log_metric(\"f1_score\", f1)\n",
    "        mlflow.log_metric(\"precision\", precision)\n",
    "        mlflow.log_metric(\"auc_roc\", auc)\n",
    "\n",
    "        mlflow.sklearn.log_model(model, \"model\")\n",
    "        print(f\"Logged {model_name} model with experiment '{experiment_name}'\")\n"
   ]
  },
  {
   "cell_type": "code",
   "execution_count": 13,
   "metadata": {},
   "outputs": [
    {
     "name": "stderr",
     "output_type": "stream",
     "text": [
      "2024/10/25 16:18:02 INFO mlflow.tracking.fluent: Experiment with name 'Fraud Detection Models using Credit Data' does not exist. Creating a new experiment.\n",
      "2024/10/25 16:19:06 WARNING mlflow.models.model: Model logged without a signature and input example. Please set `input_example` parameter when logging the model to auto infer the model signature.\n",
      "2024/10/25 16:19:06 INFO mlflow.tracking._tracking_service.client: 🏃 View run loud-seal-782 at: http://localhost:5000/#/experiments/354232857904242509/runs/cfcee49824f64488891b5fdcbaa524cb.\n",
      "2024/10/25 16:19:06 INFO mlflow.tracking._tracking_service.client: 🧪 View experiment at: http://localhost:5000/#/experiments/354232857904242509.\n"
     ]
    },
    {
     "name": "stdout",
     "output_type": "stream",
     "text": [
      "Logged Logistic Regression model with experiment 'Fraud Detection Models using Credit Data'\n"
     ]
    },
    {
     "name": "stderr",
     "output_type": "stream",
     "text": [
      "2024/10/25 16:22:49 WARNING mlflow.models.model: Model logged without a signature and input example. Please set `input_example` parameter when logging the model to auto infer the model signature.\n",
      "2024/10/25 16:22:49 INFO mlflow.tracking._tracking_service.client: 🏃 View run sedate-sheep-946 at: http://localhost:5000/#/experiments/354232857904242509/runs/bee02cb4aab94239a324ba9a6d638c25.\n",
      "2024/10/25 16:22:49 INFO mlflow.tracking._tracking_service.client: 🧪 View experiment at: http://localhost:5000/#/experiments/354232857904242509.\n"
     ]
    },
    {
     "name": "stdout",
     "output_type": "stream",
     "text": [
      "Logged Random Forest model with experiment 'Fraud Detection Models using Credit Data'\n"
     ]
    },
    {
     "name": "stderr",
     "output_type": "stream",
     "text": [
      "2024/10/25 16:22:58 WARNING mlflow.models.model: Model logged without a signature and input example. Please set `input_example` parameter when logging the model to auto infer the model signature.\n",
      "2024/10/25 16:22:59 INFO mlflow.tracking._tracking_service.client: 🏃 View run awesome-ant-919 at: http://localhost:5000/#/experiments/354232857904242509/runs/2f1e8fafc0934a94be7d7b2b57b02825.\n",
      "2024/10/25 16:22:59 INFO mlflow.tracking._tracking_service.client: 🧪 View experiment at: http://localhost:5000/#/experiments/354232857904242509.\n"
     ]
    },
    {
     "name": "stdout",
     "output_type": "stream",
     "text": [
      "Logged XGBClassifier model with experiment 'Fraud Detection Models using Credit Data'\n"
     ]
    },
    {
     "name": "stderr",
     "output_type": "stream",
     "text": [
      "2024/10/25 16:23:50 WARNING mlflow.models.model: Model logged without a signature and input example. Please set `input_example` parameter when logging the model to auto infer the model signature.\n",
      "2024/10/25 16:23:50 INFO mlflow.tracking._tracking_service.client: 🏃 View run capable-crane-968 at: http://localhost:5000/#/experiments/354232857904242509/runs/ea437323d0cd4a3da0aaf4819581f059.\n",
      "2024/10/25 16:23:50 INFO mlflow.tracking._tracking_service.client: 🧪 View experiment at: http://localhost:5000/#/experiments/354232857904242509.\n",
      "2024/10/25 16:23:50 INFO mlflow.tracking.fluent: Experiment with name 'Fraud Detection Models using Fraud' does not exist. Creating a new experiment.\n"
     ]
    },
    {
     "name": "stdout",
     "output_type": "stream",
     "text": [
      "Logged Decision Tree model with experiment 'Fraud Detection Models using Credit Data'\n"
     ]
    },
    {
     "name": "stderr",
     "output_type": "stream",
     "text": [
      "2024/10/25 16:24:07 WARNING mlflow.models.model: Model logged without a signature and input example. Please set `input_example` parameter when logging the model to auto infer the model signature.\n",
      "2024/10/25 16:24:07 INFO mlflow.tracking._tracking_service.client: 🏃 View run languid-wasp-985 at: http://localhost:5000/#/experiments/807921376342360566/runs/dca228df72f4444eb8e6f61680c4d04b.\n",
      "2024/10/25 16:24:07 INFO mlflow.tracking._tracking_service.client: 🧪 View experiment at: http://localhost:5000/#/experiments/807921376342360566.\n"
     ]
    },
    {
     "name": "stdout",
     "output_type": "stream",
     "text": [
      "Logged Logistic Regression model with experiment 'Fraud Detection Models using Fraud'\n"
     ]
    },
    {
     "name": "stderr",
     "output_type": "stream",
     "text": [
      "2024/10/25 16:24:51 WARNING mlflow.models.model: Model logged without a signature and input example. Please set `input_example` parameter when logging the model to auto infer the model signature.\n",
      "2024/10/25 16:24:51 INFO mlflow.tracking._tracking_service.client: 🏃 View run handsome-tern-753 at: http://localhost:5000/#/experiments/807921376342360566/runs/e741112adf0e433895ff9d88d7591a66.\n",
      "2024/10/25 16:24:51 INFO mlflow.tracking._tracking_service.client: 🧪 View experiment at: http://localhost:5000/#/experiments/807921376342360566.\n"
     ]
    },
    {
     "name": "stdout",
     "output_type": "stream",
     "text": [
      "Logged Random Forest model with experiment 'Fraud Detection Models using Fraud'\n"
     ]
    },
    {
     "name": "stderr",
     "output_type": "stream",
     "text": [
      "2024/10/25 16:24:59 WARNING mlflow.models.model: Model logged without a signature and input example. Please set `input_example` parameter when logging the model to auto infer the model signature.\n",
      "2024/10/25 16:24:59 INFO mlflow.tracking._tracking_service.client: 🏃 View run wise-tern-306 at: http://localhost:5000/#/experiments/807921376342360566/runs/97c4c1c5fe89441081320f45e0462f2e.\n",
      "2024/10/25 16:24:59 INFO mlflow.tracking._tracking_service.client: 🧪 View experiment at: http://localhost:5000/#/experiments/807921376342360566.\n"
     ]
    },
    {
     "name": "stdout",
     "output_type": "stream",
     "text": [
      "Logged XGBClassifier model with experiment 'Fraud Detection Models using Fraud'\n"
     ]
    },
    {
     "name": "stderr",
     "output_type": "stream",
     "text": [
      "2024/10/25 16:25:18 WARNING mlflow.models.model: Model logged without a signature and input example. Please set `input_example` parameter when logging the model to auto infer the model signature.\n",
      "2024/10/25 16:25:18 INFO mlflow.tracking._tracking_service.client: 🏃 View run nimble-carp-922 at: http://localhost:5000/#/experiments/807921376342360566/runs/ba36fe53581e45f8a12fb1e8a2d1d5bf.\n",
      "2024/10/25 16:25:18 INFO mlflow.tracking._tracking_service.client: 🧪 View experiment at: http://localhost:5000/#/experiments/807921376342360566.\n"
     ]
    },
    {
     "name": "stdout",
     "output_type": "stream",
     "text": [
      "Logged Decision Tree model with experiment 'Fraud Detection Models using Fraud'\n"
     ]
    }
   ],
   "source": [
    "# Experiment for Credit Card Data\n",
    "for name, model in models:\n",
    "    train_and_log_model(model, name, X_train_creditcard_resampled, y_train_creditcard_resampled, X_test_creditcard, y_test_creditcard, \"Fraud Detection Models using Credit Data\")\n",
    "\n",
    "# Experiment for Fraud Data\n",
    "for name, model in models:\n",
    "    train_and_log_model(model, name, X_train_fraud_resampled, y_train_fraud_resampled, X_test_fraud, y_test_fraud, \"Fraud Detection Models using Fraud\")\n"
   ]
  },
  {
   "cell_type": "markdown",
   "metadata": {},
   "source": [
    "## MLflow for Deep Learning Models"
   ]
  },
  {
   "cell_type": "code",
   "execution_count": 14,
   "metadata": {},
   "outputs": [],
   "source": [
    "import tensorflow as tf\n",
    "from tensorflow.keras.models import Sequential\n",
    "from tensorflow.keras.layers import Dense, Conv1D, MaxPooling1D, Flatten, LSTM, SimpleRNN\n",
    "from tensorflow.keras.callbacks import EarlyStopping\n",
    "from sklearn.preprocessing import StandardScaler\n"
   ]
  },
  {
   "cell_type": "code",
   "execution_count": 16,
   "metadata": {},
   "outputs": [],
   "source": [
    "scaler_credit = StandardScaler()\n",
    "X_train_credit_resampled = scaler_credit.fit_transform(X_train_creditcard_resampled)\n",
    "X_test_creditcard = scaler_credit.transform(X_test_creditcard)\n",
    "\n",
    "scaler_fraud = StandardScaler()\n",
    "X_train_fraud_resampled = scaler_fraud.fit_transform(X_train_fraud_resampled)\n",
    "X_test_fraud = scaler_fraud.transform(X_test_fraud)\n"
   ]
  },
  {
   "cell_type": "code",
   "execution_count": 17,
   "metadata": {},
   "outputs": [],
   "source": [
    "X_train_credit_resampled = X_train_credit_resampled.reshape((X_train_creditcard_resampled.shape[0], X_train_credit_resampled.shape[1], 1))\n",
    "X_test_creditcard = X_test_creditcard.reshape((X_test_creditcard.shape[0], X_test_creditcard.shape[1], 1))\n",
    "\n",
    "X_train_fraud_resampled = X_train_fraud_resampled.reshape((X_train_fraud_resampled.shape[0], X_train_fraud_resampled.shape[1], 1))\n",
    "X_test_fraud = X_test_fraud.reshape((X_test_fraud.shape[0], X_test_fraud.shape[1], 1))\n"
   ]
  },
  {
   "cell_type": "code",
   "execution_count": 18,
   "metadata": {},
   "outputs": [],
   "source": [
    "def create_cnn_model(input_shape):\n",
    "    model = Sequential([\n",
    "        Conv1D(32, kernel_size=3, activation='relu', input_shape=input_shape),\n",
    "        MaxPooling1D(pool_size=2),\n",
    "        Flatten(),\n",
    "        Dense(64, activation='relu'),\n",
    "        Dense(1, activation='sigmoid')\n",
    "    ])\n",
    "    model.compile(optimizer='adam', loss='binary_crossentropy', metrics=['accuracy'])\n",
    "    return model\n",
    "\n",
    "def create_lstm_model(input_shape):\n",
    "    model = Sequential([\n",
    "        LSTM(32, input_shape=input_shape),\n",
    "        Dense(64, activation='relu'),\n",
    "        Dense(1, activation='sigmoid')\n",
    "    ])\n",
    "    model.compile(optimizer='adam', loss='binary_crossentropy', metrics=['accuracy'])\n",
    "    return model\n",
    "\n",
    "def create_rnn_model(input_shape):\n",
    "    model = Sequential([\n",
    "        SimpleRNN(32, input_shape=input_shape),\n",
    "        Dense(64, activation='relu'),\n",
    "        Dense(1, activation='sigmoid')\n",
    "    ])\n",
    "    model.compile(optimizer='adam', loss='binary_crossentropy', metrics=['accuracy'])\n",
    "    return model\n"
   ]
  },
  {
   "cell_type": "code",
   "execution_count": 19,
   "metadata": {},
   "outputs": [],
   "source": [
    "def train_and_log_deep_model(model, model_name, X_train, y_train, X_test, y_test, experiment_name):\n",
    "    mlflow.set_experiment(experiment_name)\n",
    "    mlflow.set_tracking_uri(\"http://localhost:5000\")\n",
    "\n",
    "    with mlflow.start_run(run_name=model_name):\n",
    "        early_stopping = EarlyStopping(monitor='val_loss', patience=3)\n",
    "\n",
    "        # Train the model\n",
    "        history = model.fit(X_train, y_train, epochs=20, batch_size=32, validation_split=0.2, \n",
    "                            callbacks=[early_stopping], verbose=0)\n",
    "\n",
    "        # Evaluate the model\n",
    "        loss, accuracy = model.evaluate(X_test, y_test, verbose=0)\n",
    "        y_pred = (model.predict(X_test) > 0.5).astype(\"int32\")\n",
    "        y_prob = model.predict(X_test)\n",
    "\n",
    "        # Calculate metrics\n",
    "        recall = recall_score(y_test, y_pred)\n",
    "        f1 = f1_score(y_test, y_pred)\n",
    "        precision = precision_score(y_test, y_pred)\n",
    "        auc = roc_auc_score(y_test, y_prob)\n",
    "\n",
    "        # Log metrics and model\n",
    "        mlflow.log_param(\"model_name\", model_name)\n",
    "        mlflow.log_metric(\"accuracy\", accuracy)\n",
    "        mlflow.log_metric(\"recall\", recall)\n",
    "        mlflow.log_metric(\"f1_score\", f1)\n",
    "        mlflow.log_metric(\"precision\", precision)\n",
    "        mlflow.log_metric(\"auc_roc\", auc)\n",
    "\n",
    "        # Log the model\n",
    "        mlflow.keras.log_model(model, \"model\")\n",
    "        print(f\"Logged {model_name} model with experiment '{experiment_name}'\")\n"
   ]
  },
  {
   "cell_type": "code",
   "execution_count": null,
   "metadata": {},
   "outputs": [
    {
     "name": "stdout",
     "output_type": "stream",
     "text": [
      "1781/1781 [==============================] - 4s 2ms/step\n",
      "1781/1781 [==============================] - 4s 2ms/step\n"
     ]
    }
   ],
   "source": [
    "# Define input shape for models\n",
    "input_shape_credit = (X_train_creditcard_resampled.shape[1], 1)\n",
    "input_shape_fraud = (X_train_fraud_resampled.shape[1], 1)\n",
    "\n",
    "# List of deep learning models\n",
    "deep_models = [\n",
    "    (\"CNN\", create_cnn_model(input_shape_credit)),\n",
    "    (\"LSTM\", create_lstm_model(input_shape_credit)),\n",
    "    (\"RNN\", create_rnn_model(input_shape_credit))\n",
    "]\n",
    "\n",
    "# Run experiments for Credit Card Data\n",
    "for name, model in deep_models:\n",
    "    train_and_log_deep_model(model, name, X_train_creditcard_resampled, y_train_creditcard_resampled, X_test_creditcard, y_test_creditcard, \"Fraud Detection Models using Credit Data\")\n",
    "\n",
    "# Update models for Fraud Data\n",
    "deep_models = [\n",
    "    (\"CNN\", create_cnn_model(input_shape_fraud)),\n",
    "    (\"LSTM\", create_lstm_model(input_shape_fraud)),\n",
    "    (\"RNN\", create_rnn_model(input_shape_fraud))\n",
    "]\n",
    "\n",
    "# Run experiments for Fraud Data\n",
    "for name, model in deep_models:\n",
    "    train_and_log_deep_model(model, name, X_train_fraud_resampled, y_train_fraud_resampled, X_test_fraud, y_test_fraud, \"Fraud Detection Models using Fraud\")\n"
   ]
  },
  {
   "cell_type": "code",
   "execution_count": null,
   "metadata": {},
   "outputs": [],
   "source": []
  }
 ],
 "metadata": {
  "kernelspec": {
   "display_name": "base",
   "language": "python",
   "name": "python3"
  },
  "language_info": {
   "codemirror_mode": {
    "name": "ipython",
    "version": 3
   },
   "file_extension": ".py",
   "mimetype": "text/x-python",
   "name": "python",
   "nbconvert_exporter": "python",
   "pygments_lexer": "ipython3",
   "version": "3.10.8"
  }
 },
 "nbformat": 4,
 "nbformat_minor": 2
}
